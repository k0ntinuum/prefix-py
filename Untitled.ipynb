{
 "cells": [
  {
   "cell_type": "code",
   "execution_count": 155,
   "id": "d4e22330",
   "metadata": {},
   "outputs": [],
   "source": [
    "import random\n",
    "import secrets\n",
    "from random import shuffle\n",
    "from secrets import randbelow\n",
    "import numpy as np\n"
   ]
  },
  {
   "cell_type": "code",
   "execution_count": 156,
   "id": "bfd3fef8",
   "metadata": {},
   "outputs": [],
   "source": [
    "def a_random_word(alphabet, min_letters, max_letters):\n",
    "    x = ''\n",
    "    l = randbelow(max_letters - min_letters + 1) + min_letters\n",
    "    for i in range(l):\n",
    "        x += random.choice(alphabet)\n",
    "    return x"
   ]
  },
  {
   "cell_type": "code",
   "execution_count": 157,
   "id": "07b176f0",
   "metadata": {},
   "outputs": [],
   "source": [
    "def _no_repeats(words):\n",
    "    for i in range(0, len(words)):\n",
    "        for j in range(0, len(words)):\n",
    "            if i != j and words[i] == words[j]:\n",
    "                return False\n",
    "    return True\n",
    "\n",
    "def _random_words(alphabet, num_words,min_letters, max_letters):\n",
    "    w = []\n",
    "    for i in range(num_words):\n",
    "        w += [a_random_word(alphabet, min_letters, max_letters)]\n",
    "    return w\n",
    "\n",
    "def _random_unique_words(alphabet, num_words,min_letters, max_letters):\n",
    "    while True:\n",
    "        w = _random_words(alphabet, num_words,min_letters, max_letters)\n",
    "        if _no_repeats(w):\n",
    "            break\n",
    "    return w\n",
    "\n",
    "def random_finds(alphabet, num_words, max_letters):\n",
    "    finds = _random_unique_words(\n",
    "        alphabet,\n",
    "        num_words-len(alphabet),\n",
    "        2,\n",
    "        max_letters\n",
    "    )\n",
    "    for a in alphabet:\n",
    "        finds += [a]\n",
    "    return finds"
   ]
  },
  {
   "cell_type": "code",
   "execution_count": 158,
   "id": "6ddb6cbb",
   "metadata": {},
   "outputs": [],
   "source": [
    "def random_goes(num_modes):\n",
    "    g = list(range(num_modes))\n",
    "    shuffle(g)\n",
    "    return g"
   ]
  },
  {
   "cell_type": "code",
   "execution_count": 159,
   "id": "426a9b4d",
   "metadata": {},
   "outputs": [],
   "source": [
    "\n",
    "def _is_prefix_code(words):\n",
    "    for i in range(0, len(words)):\n",
    "        for j in range(0, len(words)):\n",
    "            if i == j: \n",
    "                continue\n",
    "            if words[i].startswith(words[j]):\n",
    "                return False\n",
    "    return True\n",
    "\n",
    "\n",
    "def random_puts(alphabet, num_words, max_letters):\n",
    "    y = []\n",
    "    count = 0\n",
    "    for i in range(0,num_words):\n",
    "        while True:\n",
    "            l = randbelow(max_letters) + 1\n",
    "            w = a_random_word(alphabet, 1, l)\n",
    "            count += 1\n",
    "            if _is_prefix_code(y + [w]):\n",
    "                y += [w]\n",
    "                break\n",
    "            if count > 10000:\n",
    "                return []\n",
    "    return y"
   ]
  },
  {
   "cell_type": "code",
   "execution_count": 160,
   "id": "80dd8e47",
   "metadata": {},
   "outputs": [],
   "source": [
    "def random_square_mode(alphabet, num_words, max_letters):\n",
    "    assert num_words > len(alphabet)\n",
    "    finds =  random_finds(alphabet, num_words, max_letters)\n",
    "    assert  not finds == []\n",
    "    puts = []\n",
    "    while puts == []:\n",
    "        puts = random_puts(alphabet,num_words, max_letters)\n",
    "    goes = random_goes(num_words)\n",
    "    m = []\n",
    "    for i in range(num_words):\n",
    "        m += [(finds[i], puts[i], goes[i])]\n",
    "    return m\n",
    "\n",
    "def random_square_key(alphabet, num_words, max_letters):\n",
    "    k = []\n",
    "    for i in range(num_words):\n",
    "        k += [random_square_mode(alphabet, num_words, max_letters)]\n",
    "    return k"
   ]
  },
  {
   "cell_type": "code",
   "execution_count": 188,
   "id": "e26d49e5",
   "metadata": {},
   "outputs": [],
   "source": [
    "def _square_encode(key, mode, plaintext):\n",
    "    for i in range(len(key[mode])):\n",
    "        finds = key[mode][i][0]\n",
    "        if plaintext.startswith(finds):\n",
    "            return (key[mode][i][1], plaintext[len(finds):],key[mode][i][2])\n",
    "        \n",
    "def square_encode(key, plaintext):\n",
    "    mode = 0\n",
    "    ciphertext = ''\n",
    "    #print( ciphertext,' ', plaintext)\n",
    "    while not plaintext == '':\n",
    "        result = _square_encode(key, mode, plaintext)\n",
    "        \n",
    "        ciphertext += result[0]\n",
    "        plaintext = result[1]\n",
    "        mode = result[2]\n",
    "        #print('r =', result)\n",
    "        #print( ciphertext,' ', plaintext)\n",
    "    return ciphertext"
   ]
  },
  {
   "cell_type": "code",
   "execution_count": 174,
   "id": "9e345d25",
   "metadata": {},
   "outputs": [],
   "source": [
    "def _square_decode(key, mode, ciphertext):\n",
    "    for i in range(len(key[0])):\n",
    "        finds = key[mode][i][0]\n",
    "        puts = key[mode][i][1]\n",
    "        if ciphertext.startswith(puts):\n",
    "            return (finds, ciphertext[len(puts):],key[mode][i][2])\n",
    "    raise ValueError('could not decode')\n",
    "        \n",
    "def square_decode(key, ciphertext):\n",
    "    mode = 0\n",
    "    plaintext = ''\n",
    "    #print( ciphertext,' ', plaintext)\n",
    "    while not ciphertext == '':\n",
    "        result = _square_decode(key, mode, ciphertext)\n",
    "        plaintext += result[0]\n",
    "        ciphertext = result[1]\n",
    "        mode = result[2]\n",
    "        #print( ciphertext,' ', plaintext)\n",
    "    return plaintext"
   ]
  },
  {
   "cell_type": "code",
   "execution_count": 163,
   "id": "3bb4793b",
   "metadata": {},
   "outputs": [],
   "source": [
    "def demo_words(alphabet, k, n, max_letters):\n",
    "    for i in range(n):\n",
    "        w = a_random_word(alphabet, 1, max_letters)\n",
    "        e = square_encode(k,w)\n",
    "        set_rgb(0,0,0)\n",
    "        print(f\"f {w:20s}\",end='')\n",
    "        set_rgb(255,0,0)\n",
    "        print(f\"= {e:20s}\")"
   ]
  },
  {
   "cell_type": "code",
   "execution_count": 164,
   "id": "b4ceb79d",
   "metadata": {},
   "outputs": [],
   "source": [
    "alphabet = 'O|'\n",
    "max_letters = 7\n",
    "num_words = 5\n",
    "k = random_square_key(alphabet, num_words, max_letters)"
   ]
  },
  {
   "cell_type": "code",
   "execution_count": 165,
   "id": "2bc96fe0",
   "metadata": {},
   "outputs": [
    {
     "name": "stdout",
     "output_type": "stream",
     "text": [
      "\u001b[38;2;0;0;0mf O||OO               \u001b[38;2;255;0;0m= OO|OOOOO|O|         \n",
      "\u001b[38;2;0;0;0mf |O                  \u001b[38;2;255;0;0m= O|||OO||O||         \n",
      "\u001b[38;2;0;0;0mf O                   \u001b[38;2;255;0;0m= OO|                 \n",
      "\u001b[38;2;0;0;0mf |OO||               \u001b[38;2;255;0;0m= O|||OO||O||O||O|OOOO\n",
      "\u001b[38;2;0;0;0mf OOOOO               \u001b[38;2;255;0;0m= OO|O|O|             \n",
      "\u001b[38;2;0;0;0mf |OOO|               \u001b[38;2;255;0;0m= O|||OO||O||O||OOOO|||\n",
      "\u001b[38;2;0;0;0mf |                   \u001b[38;2;255;0;0m= O|||                \n",
      "\u001b[38;2;0;0;0mf O|                  \u001b[38;2;255;0;0m= OO|OOOO             \n",
      "\u001b[38;2;0;0;0mf OO||                \u001b[38;2;255;0;0m= OO|OOO|OOO          \n",
      "\u001b[38;2;0;0;0mf OO                  \u001b[38;2;255;0;0m= OO|OOO|             \n"
     ]
    }
   ],
   "source": [
    "demo_words(alphabet,k, 10, 5)"
   ]
  },
  {
   "cell_type": "code",
   "execution_count": 166,
   "id": "a9708a77",
   "metadata": {},
   "outputs": [
    {
     "name": "stdout",
     "output_type": "stream",
     "text": [
      "string              \n"
     ]
    }
   ],
   "source": [
    "x = 'string'\n",
    "print(f\"{x:20s}\")"
   ]
  },
  {
   "cell_type": "code",
   "execution_count": 167,
   "id": "91b5dd04",
   "metadata": {},
   "outputs": [],
   "source": [
    "\n",
    "def set_rgb(r,g,b):\n",
    "    print(f\"\\x1b[38;2;{r};{g};{b}m\", end = '')"
   ]
  },
  {
   "cell_type": "code",
   "execution_count": 168,
   "id": "91e41106",
   "metadata": {},
   "outputs": [],
   "source": [
    "def nth_word(alphabet, n):\n",
    "    l = len(alphabet)\n",
    "    r = int(str(n), l)\n",
    "    y = ''\n",
    "    for i in range(r):\n",
    "        y += alphabet(i)\n",
    "    return y"
   ]
  },
  {
   "cell_type": "code",
   "execution_count": 169,
   "id": "38a508b7",
   "metadata": {},
   "outputs": [],
   "source": [
    "def nth_word(alphabet, n):\n",
    "    l = len(alphabet)\n",
    "    y = ''\n",
    "    pattern = str(np.base_repr(n,l))\n",
    "    print(pattern)\n",
    "    for i in range(n):\n",
    "        y += alphabet[int(pattern[i])]\n",
    "    return y"
   ]
  },
  {
   "cell_type": "code",
   "execution_count": 176,
   "id": "e1d1494a",
   "metadata": {},
   "outputs": [],
   "source": [
    "\n",
    "\n",
    "def nth_word(alphabet, n):\n",
    "    l = len(alphabet)\n",
    "    y = ''\n",
    "    pattern = str(np.base_repr(n,l))\n",
    "    for i in range(len(pattern)):\n",
    "        y += alphabet[int(pattern[i])]\n",
    "    return y\n",
    "\n",
    "\n",
    "\n",
    "\n",
    "\n",
    "\n",
    "def demo_words(alphabet, k, n, max_letters):\n",
    "    for i in range(n):\n",
    "        #w = a_random_word(alphabet, 1, max_letters)\n",
    "        w = nth_word(alphabet,i)\n",
    "        e = square_encode(k,w)\n",
    "        set_rgb(0,0,0)\n",
    "        print(f\"f{w:10s}\",end='')\n",
    "        set_rgb(0,0,0)\n",
    "        print(f\" {e:20s}\")\n"
   ]
  },
  {
   "cell_type": "code",
   "execution_count": 191,
   "id": "98de8a5b",
   "metadata": {
    "scrolled": true
   },
   "outputs": [
    {
     "name": "stdout",
     "output_type": "stream",
     "text": [
      "\u001b[38;2;0;0;0mfO         \u001b[38;2;0;0;0m |OO|                \n",
      "\u001b[38;2;0;0;0mf|         \u001b[38;2;0;0;0m |O|||               \n",
      "\u001b[38;2;0;0;0mf|O        \u001b[38;2;0;0;0m |O||||OO|           \n",
      "\u001b[38;2;0;0;0mf||        \u001b[38;2;0;0;0m |O||||O|||          \n",
      "\u001b[38;2;0;0;0mf|OO       \u001b[38;2;0;0;0m |O||||OO|O|||       \n",
      "\u001b[38;2;0;0;0mf|O|       \u001b[38;2;0;0;0m |O||||||            \n",
      "\u001b[38;2;0;0;0mf||O       \u001b[38;2;0;0;0m |O||||O||||OO|      \n",
      "\u001b[38;2;0;0;0mf|||       \u001b[38;2;0;0;0m |O||||O||||O|||     \n",
      "\u001b[38;2;0;0;0mf|OOO      \u001b[38;2;0;0;0m |O||||OO|O|||OO|O|  \n",
      "\u001b[38;2;0;0;0mf|OO|      \u001b[38;2;0;0;0m |O||||OO|O|||||O|   \n",
      "\u001b[38;2;0;0;0mf|O|O      \u001b[38;2;0;0;0m |O||||||OO||O|      \n",
      "\u001b[38;2;0;0;0mf|O||      \u001b[38;2;0;0;0m |O|||O              \n"
     ]
    }
   ],
   "source": [
    "alphabet = 'O|'\n",
    "max_letters = 6\n",
    "num_words = 10\n",
    "k = random_square_key(alphabet, num_words, max_letters)\n",
    "demo_words(alphabet,k, 12, 7)"
   ]
  },
  {
   "cell_type": "code",
   "execution_count": 177,
   "id": "dac42561",
   "metadata": {},
   "outputs": [],
   "source": [
    "def random_rect_mode(alphabet, num_words, num_modes, max_letters):\n",
    "    assert num_words > len(alphabet)\n",
    "    finds =  random_finds(alphabet, num_words, max_letters)\n",
    "    assert  not finds == []\n",
    "    puts = []\n",
    "    while puts == []:\n",
    "        puts = random_puts(alphabet,num_words, max_letters)\n",
    "    goes = random_goes(num_modes)\n",
    "    m = []\n",
    "    for i in range(num_words):\n",
    "        m += [(finds[i], puts[i], goes[i])]\n",
    "    return m\n",
    "\n",
    "def random_rect_key(alphabet, num_words, num_modes, max_letters):\n",
    "    k = []\n",
    "    for i in range(num_words):\n",
    "        k += [random_rect_mode(alphabet, num_words, num_modes, max_letters)]\n",
    "    return k"
   ]
  },
  {
   "cell_type": "code",
   "execution_count": 190,
   "id": "a2f14ba0",
   "metadata": {},
   "outputs": [
    {
     "name": "stdout",
     "output_type": "stream",
     "text": [
      "\u001b[38;2;0;0;0mfO         \u001b[38;2;0;0;0m |OO                 \n",
      "\u001b[38;2;0;0;0mf|         \u001b[38;2;0;0;0m O|O|||              \n",
      "\u001b[38;2;0;0;0mf|O        \u001b[38;2;0;0;0m O|O||||OO           \n",
      "\u001b[38;2;0;0;0mf||        \u001b[38;2;0;0;0m O|O|||||            \n",
      "\u001b[38;2;0;0;0mf|OO       \u001b[38;2;0;0;0m O|O|O               \n",
      "\u001b[38;2;0;0;0mf|O|       \u001b[38;2;0;0;0m O|O||||OOOO||       \n"
     ]
    },
    {
     "ename": "IndexError",
     "evalue": "list index out of range",
     "output_type": "error",
     "traceback": [
      "\u001b[0;31m---------------------------------------------------------------------------\u001b[0m",
      "\u001b[0;31mIndexError\u001b[0m                                Traceback (most recent call last)",
      "Cell \u001b[0;32mIn[190], line 6\u001b[0m\n\u001b[1;32m      4\u001b[0m num_modes \u001b[38;5;241m=\u001b[39m \u001b[38;5;241m10\u001b[39m\n\u001b[1;32m      5\u001b[0m k \u001b[38;5;241m=\u001b[39m random_rect_key(alphabet, num_words, num_modes, max_letters)\n\u001b[0;32m----> 6\u001b[0m demo_words(alphabet,k, \u001b[38;5;241m35\u001b[39m, \u001b[38;5;241m7\u001b[39m)\n",
      "Cell \u001b[0;32mIn[176], line 18\u001b[0m, in \u001b[0;36mdemo_words\u001b[0;34m(alphabet, k, n, max_letters)\u001b[0m\n\u001b[1;32m     15\u001b[0m \u001b[38;5;28;01mfor\u001b[39;00m i \u001b[38;5;129;01min\u001b[39;00m \u001b[38;5;28mrange\u001b[39m(n):\n\u001b[1;32m     16\u001b[0m     \u001b[38;5;66;03m#w = a_random_word(alphabet, 1, max_letters)\u001b[39;00m\n\u001b[1;32m     17\u001b[0m     w \u001b[38;5;241m=\u001b[39m nth_word(alphabet,i)\n\u001b[0;32m---> 18\u001b[0m     e \u001b[38;5;241m=\u001b[39m square_encode(k,w)\n\u001b[1;32m     19\u001b[0m     set_rgb(\u001b[38;5;241m0\u001b[39m,\u001b[38;5;241m0\u001b[39m,\u001b[38;5;241m0\u001b[39m)\n\u001b[1;32m     20\u001b[0m     \u001b[38;5;28mprint\u001b[39m(\u001b[38;5;124mf\u001b[39m\u001b[38;5;124m\"\u001b[39m\u001b[38;5;124mf\u001b[39m\u001b[38;5;132;01m{\u001b[39;00mw\u001b[38;5;132;01m:\u001b[39;00m\u001b[38;5;124m10s\u001b[39m\u001b[38;5;132;01m}\u001b[39;00m\u001b[38;5;124m\"\u001b[39m,end\u001b[38;5;241m=\u001b[39m\u001b[38;5;124m'\u001b[39m\u001b[38;5;124m'\u001b[39m)\n",
      "Cell \u001b[0;32mIn[188], line 12\u001b[0m, in \u001b[0;36msquare_encode\u001b[0;34m(key, plaintext)\u001b[0m\n\u001b[1;32m     10\u001b[0m \u001b[38;5;66;03m#print( ciphertext,' ', plaintext)\u001b[39;00m\n\u001b[1;32m     11\u001b[0m \u001b[38;5;28;01mwhile\u001b[39;00m \u001b[38;5;129;01mnot\u001b[39;00m plaintext \u001b[38;5;241m==\u001b[39m \u001b[38;5;124m'\u001b[39m\u001b[38;5;124m'\u001b[39m:\n\u001b[0;32m---> 12\u001b[0m     result \u001b[38;5;241m=\u001b[39m _square_encode(key, mode, plaintext)\n\u001b[1;32m     14\u001b[0m     ciphertext \u001b[38;5;241m+\u001b[39m\u001b[38;5;241m=\u001b[39m result[\u001b[38;5;241m0\u001b[39m]\n\u001b[1;32m     15\u001b[0m     plaintext \u001b[38;5;241m=\u001b[39m result[\u001b[38;5;241m1\u001b[39m]\n",
      "Cell \u001b[0;32mIn[188], line 2\u001b[0m, in \u001b[0;36m_square_encode\u001b[0;34m(key, mode, plaintext)\u001b[0m\n\u001b[1;32m      1\u001b[0m \u001b[38;5;28;01mdef\u001b[39;00m \u001b[38;5;21m_square_encode\u001b[39m(key, mode, plaintext):\n\u001b[0;32m----> 2\u001b[0m     \u001b[38;5;28;01mfor\u001b[39;00m i \u001b[38;5;129;01min\u001b[39;00m \u001b[38;5;28mrange\u001b[39m(\u001b[38;5;28mlen\u001b[39m(key[mode])):\n\u001b[1;32m      3\u001b[0m         finds \u001b[38;5;241m=\u001b[39m key[mode][i][\u001b[38;5;241m0\u001b[39m]\n\u001b[1;32m      4\u001b[0m         \u001b[38;5;28;01mif\u001b[39;00m plaintext\u001b[38;5;241m.\u001b[39mstartswith(finds):\n",
      "\u001b[0;31mIndexError\u001b[0m: list index out of range"
     ]
    }
   ],
   "source": [
    "alphabet = 'O|'\n",
    "max_letters = 6\n",
    "num_words = 5\n",
    "num_modes = 10\n",
    "k = random_rect_key(alphabet, num_words, num_modes, max_letters)\n",
    "demo_words(alphabet,k, 35, 7)"
   ]
  },
  {
   "cell_type": "code",
   "execution_count": 185,
   "id": "2c4909cd",
   "metadata": {},
   "outputs": [],
   "source": [
    "k = random_rect_key(alphabet, 6, num_modes, max_letters)"
   ]
  },
  {
   "cell_type": "code",
   "execution_count": 186,
   "id": "3c792f19",
   "metadata": {},
   "outputs": [
    {
     "data": {
      "text/plain": [
       "[[('|O|O|O', '||OO', 4),\n",
       "  ('O|O||', '||||O|', 8),\n",
       "  ('O||O|O', 'O||', 1),\n",
       "  ('OO||O', 'OOO', 5),\n",
       "  ('O', '|O|', 3),\n",
       "  ('|', 'OO|', 0)],\n",
       " [('O|', 'O|OO', 9),\n",
       "  ('|O||O', '|', 2),\n",
       "  ('OO|OOO', 'OO|', 8),\n",
       "  ('|||||O', 'OOO', 7),\n",
       "  ('O', 'O|||', 4),\n",
       "  ('|', 'O|O|', 3)],\n",
       " [('OOO', 'O', 4),\n",
       "  ('||O', '||O', 3),\n",
       "  ('|OO|', '|O||O', 1),\n",
       "  ('||O|OO', '|OOO', 8),\n",
       "  ('O', '|||', 7),\n",
       "  ('|', '|O|OOO', 0)],\n",
       " [('|O', '||OO|', 9),\n",
       "  ('|O||', '|O|', 8),\n",
       "  ('|O||O', 'O|O', 1),\n",
       "  ('O|OO', 'OOO', 2),\n",
       "  ('O', '|||', 7),\n",
       "  ('|', 'OO|', 6)],\n",
       " [('|||O', '|O', 8),\n",
       "  ('|O||O|', 'OOO|', 6),\n",
       "  ('|O|OO|', 'O||', 3),\n",
       "  ('||O|O', '||', 0),\n",
       "  ('O', 'OO|', 4),\n",
       "  ('|', 'O|O', 5)],\n",
       " [('O|O|O', '|O', 0),\n",
       "  ('O|', 'O', 9),\n",
       "  ('|OO|O', '|||OO', 6),\n",
       "  ('OO|', '||O', 2),\n",
       "  ('O', '|||O|', 8),\n",
       "  ('|', '||||', 7)]]"
      ]
     },
     "execution_count": 186,
     "metadata": {},
     "output_type": "execute_result"
    }
   ],
   "source": [
    "k"
   ]
  },
  {
   "cell_type": "code",
   "execution_count": null,
   "id": "9ebb235e",
   "metadata": {},
   "outputs": [],
   "source": []
  }
 ],
 "metadata": {
  "kernelspec": {
   "display_name": "Python 3 (ipykernel)",
   "language": "python",
   "name": "python3"
  },
  "language_info": {
   "codemirror_mode": {
    "name": "ipython",
    "version": 3
   },
   "file_extension": ".py",
   "mimetype": "text/x-python",
   "name": "python",
   "nbconvert_exporter": "python",
   "pygments_lexer": "ipython3",
   "version": "3.11.5"
  }
 },
 "nbformat": 4,
 "nbformat_minor": 5
}
