{
 "cells": [
  {
   "cell_type": "code",
   "execution_count": 14,
   "id": "69150f00",
   "metadata": {},
   "outputs": [],
   "source": [
    "import random\n",
    "import secrets\n",
    "from random import shuffle\n",
    "from secrets import randbelow\n"
   ]
  },
  {
   "cell_type": "code",
   "execution_count": 2,
   "id": "31d7c242",
   "metadata": {},
   "outputs": [],
   "source": [
    "def a_random_word(alphabet, min_letters, max_letters):\n",
    "    x = ''\n",
    "    l = secrets.randbelow(max_letters - min_letters + 1) + min_letters\n",
    "    for i in range(l):\n",
    "        x += random.choice(alphabet)\n",
    "    return x"
   ]
  },
  {
   "cell_type": "code",
   "execution_count": 3,
   "id": "ad3aa0b6",
   "metadata": {},
   "outputs": [],
   "source": [
    "def _no_repeats(words):\n",
    "    for i in range(0, len(words)):\n",
    "        for j in range(0, len(words)):\n",
    "            if i != j and words[i] == words[j]:\n",
    "                return False\n",
    "    return True\n",
    "\n",
    "def _random_words(alphabet, num_words,min_letters, max_letters):\n",
    "    w = []\n",
    "    for i in range(num_words):\n",
    "        w += [a_random_word(alphabet, min_letters, max_letters)]\n",
    "    return w\n",
    "\n",
    "def _random_unique_words(alphabet, num_words,min_letters, max_letters):\n",
    "    while True:\n",
    "        w = _random_words(alphabet, num_words,min_letters, max_letters)\n",
    "        if _no_repeats(w):\n",
    "            break\n",
    "    return w\n",
    "\n",
    "def random_finds(alphabet, num_words, max_letters):\n",
    "    finds = _random_unique_words(\n",
    "        alphabet,\n",
    "        num_words-len(alphabet),\n",
    "        2,\n",
    "        max_letters\n",
    "    )\n",
    "    for a in alphabet:\n",
    "        finds += [a]\n",
    "    return finds"
   ]
  },
  {
   "cell_type": "code",
   "execution_count": 6,
   "id": "7e698eaf",
   "metadata": {},
   "outputs": [],
   "source": [
    "def random_goes(num_modes):\n",
    "    g = list(range(num_modes))\n",
    "    shuffle(g)\n",
    "    return g"
   ]
  },
  {
   "cell_type": "code",
   "execution_count": 7,
   "id": "7802f118",
   "metadata": {},
   "outputs": [],
   "source": [
    "\n",
    "def _is_prefix_code(words):\n",
    "    for i in range(0, len(words)):\n",
    "        for j in range(0, len(words)):\n",
    "            if i == j: \n",
    "                continue\n",
    "            if words[i].startswith(words[j]):\n",
    "                return False\n",
    "    return True\n",
    "\n",
    "\n",
    "def random_puts(alphabet, num_words, max_letters):\n",
    "    y = []\n",
    "    count = 0\n",
    "    for i in range(0,num_words):\n",
    "        while True:\n",
    "            l = randbelow(max_letters) + 1\n",
    "            w = a_random_word(alphabet, 1, l)\n",
    "            count += 1\n",
    "            if _is_prefix_code(y + [w]):\n",
    "                y += [w]\n",
    "                break\n",
    "            if count > 10000:\n",
    "                return []\n",
    "    return y"
   ]
  },
  {
   "cell_type": "code",
   "execution_count": 8,
   "id": "99a8ea49",
   "metadata": {},
   "outputs": [],
   "source": [
    "def random_square_mode(alphabet, num_words, max_letters):\n",
    "    assert num_words > len(alphabet)\n",
    "    finds =  random_finds(alphabet, num_words, max_letters)\n",
    "    assert  not finds == []\n",
    "    puts = []\n",
    "    while puts == []:\n",
    "        puts = random_puts(alphabet,num_words, max_letters)\n",
    "    goes = random_goes(num_words)\n",
    "    m = []\n",
    "    for i in range(num_words):\n",
    "        m += [(finds[i], puts[i], goes[i])]\n",
    "    return m\n",
    "\n",
    "def random_square_key(alphabet, num_words, max_letters):\n",
    "    k = []\n",
    "    for i in range(num_words):\n",
    "        k += [random_square_mode(alphabet, num_words, max_letters)]\n",
    "    return k"
   ]
  },
  {
   "cell_type": "code",
   "execution_count": 17,
   "id": "6c6f0845",
   "metadata": {},
   "outputs": [],
   "source": [
    "def _square_encode(key, mode, plaintext):\n",
    "    for i in range(len(key)):\n",
    "        finds = key[mode][i][0]\n",
    "        if plaintext.startswith(finds):\n",
    "            return (key[mode][i][1], plaintext[len(finds):],key[mode][i][2])\n",
    "        \n",
    "def square_encode(key, plaintext):\n",
    "    mode = 0\n",
    "    ciphertext = ''\n",
    "    #print( ciphertext,' ', plaintext)\n",
    "    while not plaintext == '':\n",
    "        result = _square_encode(key, mode, plaintext)\n",
    "        \n",
    "        ciphertext += result[0]\n",
    "        plaintext = result[1]\n",
    "        mode = result[2]\n",
    "        #print('r =', result)\n",
    "        #print( ciphertext,' ', plaintext)\n",
    "    return ciphertext"
   ]
  },
  {
   "cell_type": "code",
   "execution_count": 18,
   "id": "f5f8f37a",
   "metadata": {},
   "outputs": [],
   "source": [
    "def _square_decode(key, mode, ciphertext):\n",
    "    for i in range(len(key)):\n",
    "        finds = key[mode][i][0]\n",
    "        puts = key[mode][i][1]\n",
    "        if ciphertext.startswith(puts):\n",
    "            return (finds, ciphertext[len(puts):],key[mode][i][2])\n",
    "    raise ValueError('could not decode')\n",
    "        \n",
    "def square_decode(key, ciphertext):\n",
    "    mode = 0\n",
    "    plaintext = ''\n",
    "    #print( ciphertext,' ', plaintext)\n",
    "    while not ciphertext == '':\n",
    "        result = _square_decode(key, mode, ciphertext)\n",
    "        plaintext += result[0]\n",
    "        ciphertext = result[1]\n",
    "        mode = result[2]\n",
    "        #print( ciphertext,' ', plaintext)\n",
    "    return plaintext"
   ]
  },
  {
   "cell_type": "code",
   "execution_count": 66,
   "id": "5f29a3f7",
   "metadata": {},
   "outputs": [],
   "source": [
    "def demo_words(alphabet, k, n, max_letters):\n",
    "    for i in range(n):\n",
    "        w = a_random_word(alphabet, 1, max_letters)\n",
    "        e = square_encode(k,w)\n",
    "        set_rgb(0,0,0)\n",
    "        print(f\"f {w:20s}\",end='')\n",
    "        #set_rgb(255,0,0)\n",
    "        print(f\"= {e:20s}\")"
   ]
  },
  {
   "cell_type": "code",
   "execution_count": 57,
   "id": "12740149",
   "metadata": {},
   "outputs": [],
   "source": [
    "alphabet = 'O|'\n",
    "max_letters = 7\n",
    "num_words = 5\n",
    "k = random_square_key(alphabet, num_words, max_letters)"
   ]
  },
  {
   "cell_type": "code",
   "execution_count": 67,
   "id": "215a2eb8",
   "metadata": {},
   "outputs": [
    {
     "name": "stdout",
     "output_type": "stream",
     "text": [
      "\u001b[38;2;0;0;0m\n",
      "f O                   = O||O                \n",
      "\u001b[38;2;0;0;0m\n",
      "f ||O|                = O|||O|O|OO||||OO    \n",
      "\u001b[38;2;0;0;0m\n",
      "f |O                  = O|||O|O||           \n",
      "\u001b[38;2;0;0;0m\n",
      "f O|O|                = O||O|OOO||O|OO      \n",
      "\u001b[38;2;0;0;0m\n",
      "f O||OO               = |O||OO|             \n",
      "\u001b[38;2;0;0;0m\n",
      "f O|O                 = O||O|OOO||O         \n",
      "\u001b[38;2;0;0;0m\n",
      "f O                   = O||O                \n",
      "\u001b[38;2;0;0;0m\n",
      "f OOO                 = O||O|O|O||          \n",
      "\u001b[38;2;0;0;0m\n",
      "f O                   = O||O                \n",
      "\u001b[38;2;0;0;0m\n",
      "f |                   = O|||O|              \n"
     ]
    }
   ],
   "source": [
    "demo_words(alphabet,k, 10, 5)"
   ]
  },
  {
   "cell_type": "code",
   "execution_count": 47,
   "id": "adbfdac0",
   "metadata": {},
   "outputs": [
    {
     "name": "stdout",
     "output_type": "stream",
     "text": [
      "string              \n"
     ]
    }
   ],
   "source": [
    "x = 'string'\n",
    "print(f\"{x:20s}\")"
   ]
  },
  {
   "cell_type": "code",
   "execution_count": 54,
   "id": "bc29528a",
   "metadata": {},
   "outputs": [],
   "source": [
    "\n",
    "def set_rgb(r,g,b):\n",
    "    print(f\"\\x1b[38;2;{r};{g};{b}m\", end = '')"
   ]
  },
  {
   "cell_type": "code",
   "execution_count": null,
   "id": "eaa4c762",
   "metadata": {},
   "outputs": [],
   "source": []
  }
 ],
 "metadata": {
  "kernelspec": {
   "display_name": "Python 3 (ipykernel)",
   "language": "python",
   "name": "python3"
  },
  "language_info": {
   "codemirror_mode": {
    "name": "ipython",
    "version": 3
   },
   "file_extension": ".py",
   "mimetype": "text/x-python",
   "name": "python",
   "nbconvert_exporter": "python",
   "pygments_lexer": "ipython3",
   "version": "3.11.5"
  }
 },
 "nbformat": 4,
 "nbformat_minor": 5
}
